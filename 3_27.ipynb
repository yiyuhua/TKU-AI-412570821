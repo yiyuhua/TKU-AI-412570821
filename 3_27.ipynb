{
  "nbformat": 4,
  "nbformat_minor": 0,
  "metadata": {
    "colab": {
      "provenance": [],
      "authorship_tag": "ABX9TyNvN4S06xC0KCrCAfuke3Yi",
      "include_colab_link": true
    },
    "kernelspec": {
      "name": "python3",
      "display_name": "Python 3"
    },
    "language_info": {
      "name": "python"
    }
  },
  "cells": [
    {
      "cell_type": "markdown",
      "metadata": {
        "id": "view-in-github",
        "colab_type": "text"
      },
      "source": [
        "<a href=\"https://colab.research.google.com/github/yiyuhua/TKU-AI-412570821/blob/main/3_27.ipynb\" target=\"_parent\"><img src=\"https://colab.research.google.com/assets/colab-badge.svg\" alt=\"Open In Colab\"/></a>"
      ]
    },
    {
      "cell_type": "code",
      "execution_count": null,
      "metadata": {
        "colab": {
          "base_uri": "https://localhost:8080/"
        },
        "id": "hnsOrbFFz0Qj",
        "outputId": "3a74b9c6-166d-4003-8c3a-1579302a069b"
      },
      "outputs": [
        {
          "output_type": "stream",
          "name": "stdout",
          "text": [
            "請輸入攝氏溫度:50\n",
            "122.0\n"
          ]
        }
      ],
      "source": [
        "攝氏=float(input('請輸入攝氏溫度:'))\n",
        "華氏=攝氏*9/5+32\n",
        "print(華氏)"
      ]
    },
    {
      "cell_type": "code",
      "source": [
        "num=2.999999\n",
        "round_num=round(num,1)\n",
        "print(round_num)"
      ],
      "metadata": {
        "colab": {
          "base_uri": "https://localhost:8080/"
        },
        "id": "-4hVThkf2EgH",
        "outputId": "45f83fc9-06c7-4a8e-82b0-fdfa92aadf6e"
      },
      "execution_count": null,
      "outputs": [
        {
          "output_type": "stream",
          "name": "stdout",
          "text": [
            "3.0\n"
          ]
        }
      ]
    },
    {
      "cell_type": "code",
      "source": [
        "體重=float(input('請輸入你的體重(公斤)'))\n",
        "身高公分=float(input('請輸入您的身高(公分)'))\n",
        "bmi=體重/(身高公分/100)**2\n",
        "bmi=round(bmi,2)\n",
        "print(bmi)"
      ],
      "metadata": {
        "id": "cIeZJGlB5fON",
        "colab": {
          "base_uri": "https://localhost:8080/"
        },
        "outputId": "0dfab63b-23ce-4070-f667-87f43a27f29c"
      },
      "execution_count": 2,
      "outputs": [
        {
          "output_type": "stream",
          "name": "stdout",
          "text": [
            "請輸入你的體重(公斤)60\n",
            "請輸入您的身高(公分)177\n",
            "19.15\n"
          ]
        }
      ]
    },
    {
      "cell_type": "code",
      "source": [
        "總和=sum(range(1,51,2))\n",
        "print(總和)"
      ],
      "metadata": {
        "colab": {
          "base_uri": "https://localhost:8080/"
        },
        "id": "p9G3sLV_qyGx",
        "outputId": "8dbf3d9c-13fc-4977-dc55-ee1bce284827"
      },
      "execution_count": 6,
      "outputs": [
        {
          "output_type": "stream",
          "name": "stdout",
          "text": [
            "625\n"
          ]
        }
      ]
    },
    {
      "cell_type": "code",
      "source": [],
      "metadata": {
        "id": "nbp5GnOQshew"
      },
      "execution_count": null,
      "outputs": []
    }
  ]
}