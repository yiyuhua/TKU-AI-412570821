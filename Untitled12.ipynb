{
  "nbformat": 4,
  "nbformat_minor": 0,
  "metadata": {
    "colab": {
      "provenance": [],
      "authorship_tag": "ABX9TyOAA/3MmUzkX7IC/faSu1ig",
      "include_colab_link": true
    },
    "kernelspec": {
      "name": "python3",
      "display_name": "Python 3"
    },
    "language_info": {
      "name": "python"
    }
  },
  "cells": [
    {
      "cell_type": "markdown",
      "metadata": {
        "id": "view-in-github",
        "colab_type": "text"
      },
      "source": [
        "<a href=\"https://colab.research.google.com/github/yiyuhua/TKU-AI-412570821/blob/main/Untitled12.ipynb\" target=\"_parent\"><img src=\"https://colab.research.google.com/assets/colab-badge.svg\" alt=\"Open In Colab\"/></a>"
      ]
    },
    {
      "cell_type": "code",
      "execution_count": 12,
      "metadata": {
        "colab": {
          "base_uri": "https://localhost:8080/"
        },
        "id": "6tWSeXsEyDUp",
        "outputId": "5d5e478c-a573-4f11-83fb-e5c837518b2c"
      },
      "outputs": [
        {
          "output_type": "stream",
          "name": "stdout",
          "text": [
            "請輸入你的體溫35\n",
            "體溫正常\n"
          ]
        }
      ],
      "source": [
        "temperature  = int(input(\"請輸入你的體溫\"))\n",
        "if temperature >= 37.5:\n",
        "    print(\"體溫高\")\n",
        "elif 37 <= temperature <= 37.4:\n",
        "    print(\"體溫略高\")\n",
        "elif 34 <= temperature <= 36.9:\n",
        "    print(\"體溫正常\")\n",
        "else:\n",
        "    print(\"體溫異常\")\n"
      ]
    },
    {
      "cell_type": "code",
      "source": [
        "score = input(\"請輸入分數\")\n",
        "sc=int(score)\n",
        "if(sc>=90):\n",
        "  print(\"A\")\n",
        "elif(80<=sc<=89):\n",
        "  print(\"B\")\n",
        "elif(70<=sc<=79):\n",
        "  print(\"c\")\n",
        "elif(60<=sc<=69):\n",
        "  print(\"D\")\n",
        "else:\n",
        "  print(\"E\")"
      ],
      "metadata": {
        "colab": {
          "base_uri": "https://localhost:8080/"
        },
        "id": "DgBvasBw1ci5",
        "outputId": "b35a40ff-ec7d-460b-8975-0afb39e7b1a9"
      },
      "execution_count": 13,
      "outputs": [
        {
          "output_type": "stream",
          "name": "stdout",
          "text": [
            "請輸入分數2\n",
            "E\n"
          ]
        }
      ]
    },
    {
      "cell_type": "code",
      "source": [
        "month = int(input(\"請輸入月份\"))\n",
        "if month in [3, 4, 5]:\n",
        "  print(\"春天\")\n",
        "elif month in [6, 7, 8]:\n",
        "  print(\"夏天\")\n",
        "elif month in [9, 10, 11]:\n",
        "  print(\"秋天\")\n",
        "elif month in [12, 1, 2]:\n",
        "  print(\"冬天\")\n",
        "else:\n",
        "  print(\"月份不在範圍內\")"
      ],
      "metadata": {
        "colab": {
          "base_uri": "https://localhost:8080/"
        },
        "id": "LbM7HHfv84wY",
        "outputId": "54d9c03f-3614-4b27-c5df-addc006e1a15"
      },
      "execution_count": 14,
      "outputs": [
        {
          "output_type": "stream",
          "name": "stdout",
          "text": [
            "請輸入月份9\n",
            "秋天\n"
          ]
        }
      ]
    },
    {
      "cell_type": "code",
      "source": [],
      "metadata": {
        "id": "mpHZYUge-sLH"
      },
      "execution_count": null,
      "outputs": []
    }
  ]
}