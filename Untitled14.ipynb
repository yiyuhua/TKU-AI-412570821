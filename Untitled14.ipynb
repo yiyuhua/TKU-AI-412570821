{
  "nbformat": 4,
  "nbformat_minor": 0,
  "metadata": {
    "colab": {
      "provenance": [],
      "authorship_tag": "ABX9TyPgqD0mcb5YJu5+bciwe0tD",
      "include_colab_link": true
    },
    "kernelspec": {
      "name": "python3",
      "display_name": "Python 3"
    },
    "language_info": {
      "name": "python"
    }
  },
  "cells": [
    {
      "cell_type": "markdown",
      "metadata": {
        "id": "view-in-github",
        "colab_type": "text"
      },
      "source": [
        "<a href=\"https://colab.research.google.com/github/yiyuhua/TKU-AI-412570821/blob/main/Untitled14.ipynb\" target=\"_parent\"><img src=\"https://colab.research.google.com/assets/colab-badge.svg\" alt=\"Open In Colab\"/></a>"
      ]
    },
    {
      "cell_type": "code",
      "execution_count": 1,
      "metadata": {
        "colab": {
          "base_uri": "https://localhost:8080/"
        },
        "id": "hGs7Hx8xB8Nw",
        "outputId": "785eb3ce-b8a1-4016-deb3-0fc65036fab6"
      },
      "outputs": [
        {
          "output_type": "stream",
          "name": "stdout",
          "text": [
            "猜猜看我心裡在想的是哪個數字\n",
            "請輸入一個數字：5\n",
            "猜錯了,再試一次！\n",
            "請輸入一個數字：21\n",
            "恭喜猜對了！\n"
          ]
        }
      ],
      "source": [
        "secret_number = 21\n",
        "\n",
        "print(\"猜猜看我心裡在想的是哪個數字\")\n",
        "\n",
        "while  int(input(\"請輸入一個數字：\"))  != secret_number:\n",
        "        print(\"猜錯了,再試一次！\")\n",
        "\n",
        "print(\"恭喜猜對了！\")"
      ]
    },
    {
      "cell_type": "code",
      "source": [
        "count = 0\n",
        "while count < 9:\n",
        "    print(\"happy\")\n",
        "    count += 1"
      ],
      "metadata": {
        "colab": {
          "base_uri": "https://localhost:8080/"
        },
        "id": "cNCzcYqkCOj7",
        "outputId": "612384af-57cc-4d74-95c4-8282b5d720ac"
      },
      "execution_count": 2,
      "outputs": [
        {
          "output_type": "stream",
          "name": "stdout",
          "text": [
            "happy\n",
            "happy\n",
            "happy\n",
            "happy\n",
            "happy\n",
            "happy\n",
            "happy\n",
            "happy\n",
            "happy\n"
          ]
        }
      ]
    },
    {
      "cell_type": "code",
      "source": [
        "for i in range(9):\n",
        "      print(\"happy\")"
      ],
      "metadata": {
        "colab": {
          "base_uri": "https://localhost:8080/"
        },
        "id": "KUXb9qBkDvV6",
        "outputId": "aca32e41-e846-493c-b529-017deb95f3e1"
      },
      "execution_count": 3,
      "outputs": [
        {
          "output_type": "stream",
          "name": "stdout",
          "text": [
            "happy\n",
            "happy\n",
            "happy\n",
            "happy\n",
            "happy\n",
            "happy\n",
            "happy\n",
            "happy\n",
            "happy\n"
          ]
        }
      ]
    },
    {
      "cell_type": "code",
      "source": [
        "\n",
        "for j in range(5):\n",
        "  if j ==3:break\n",
        "  print(j)\n",
        "print('bye!!')"
      ],
      "metadata": {
        "colab": {
          "base_uri": "https://localhost:8080/"
        },
        "id": "4Zna9qAIDzTR",
        "outputId": "eddc3049-a2e2-4d0c-fd2a-f9a76f73a747"
      },
      "execution_count": 4,
      "outputs": [
        {
          "output_type": "stream",
          "name": "stdout",
          "text": [
            "0\n",
            "1\n",
            "2\n",
            "bye!!\n"
          ]
        }
      ]
    },
    {
      "cell_type": "code",
      "source": [
        "for j in range(5):\n",
        "  if j ==3:continue\n",
        "  print(j)\n",
        "print('bye!')"
      ],
      "metadata": {
        "colab": {
          "base_uri": "https://localhost:8080/"
        },
        "id": "4XmNnTNfD2U4",
        "outputId": "5e3cb135-d069-4d43-852c-08a401d2c6bd"
      },
      "execution_count": 5,
      "outputs": [
        {
          "output_type": "stream",
          "name": "stdout",
          "text": [
            "0\n",
            "1\n",
            "2\n",
            "4\n",
            "bye!\n"
          ]
        }
      ]
    },
    {
      "cell_type": "code",
      "source": [],
      "metadata": {
        "id": "VKcphCpLD5CB"
      },
      "execution_count": null,
      "outputs": []
    }
  ]
}